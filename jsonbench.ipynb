{
 "cells": [
  {
   "cell_type": "markdown",
   "id": "4f7ac58a-3c8f-4a5e-9a69-0b1105f54be0",
   "metadata": {},
   "source": [
    "## Benchmarking Llama 2 JSON inference with no guardrails"
   ]
  },
  {
   "cell_type": "code",
   "execution_count": 96,
   "id": "5b0dbed8-9385-47ab-9dfb-e3ecd0d72d26",
   "metadata": {},
   "outputs": [
    {
     "name": "stderr",
     "output_type": "stream",
     "text": [
      "huggingface/tokenizers: The current process just got forked, after parallelism has already been used. Disabling parallelism to avoid deadlocks...\n",
      "To disable this warning, you can either:\n",
      "\t- Avoid using `tokenizers` before the fork if possible\n",
      "\t- Explicitly set the environment variable TOKENIZERS_PARALLELISM=(true | false)\n"
     ]
    },
    {
     "name": "stdout",
     "output_type": "stream",
     "text": [
      "Collecting prettytable\n",
      "  Downloading prettytable-3.9.0-py3-none-any.whl.metadata (26 kB)\n",
      "Requirement already satisfied: wcwidth in /usr/local/lib/python3.10/dist-packages (from prettytable) (0.2.9)\n",
      "Downloading prettytable-3.9.0-py3-none-any.whl (27 kB)\n",
      "Installing collected packages: prettytable\n",
      "Successfully installed prettytable-3.9.0\n",
      "\u001b[33mWARNING: Running pip as the 'root' user can result in broken permissions and conflicting behaviour with the system package manager. It is recommended to use a virtual environment instead: https://pip.pypa.io/warnings/venv\u001b[0m\u001b[33m\n",
      "\u001b[0m"
     ]
    }
   ],
   "source": [
    "!pip install prettytable"
   ]
  },
  {
   "cell_type": "code",
   "execution_count": 144,
   "id": "4e950c7c-c1ca-4613-bb6c-69136f740960",
   "metadata": {},
   "outputs": [],
   "source": [
    "import json\n",
    "import time\n",
    "from tqdm import tqdm\n",
    "from prettytable import PrettyTable\n",
    "import numpy as np\n",
    "\n",
    "\n",
    "class JSONBenchmark:\n",
    "    def __init__(self, dataset_file):\n",
    "        self.dataset = self.load_dataset(dataset_file)\n",
    "\n",
    "    def load_dataset(self, dataset_file):\n",
    "        with open(dataset_file, \"r\") as f:\n",
    "            dataset = [json.loads(line) for line in f.readlines()]\n",
    "        return dataset\n",
    "\n",
    "    def generate_prompt(self, passage, schema):\n",
    "        user_message = f\"\"\"{passage}\n",
    "    \n",
    "From the above passage, extract the following schema:\n",
    "{schema}\n",
    "\n",
    "Only output JSON with the allowed types.\"\"\"\n",
    "        prompt = f\"\"\"<s><<SYS>>You only respond in JSON. You do not add text before. You do not add text after. Only JSON.<</SYS>>[INST] {user_message} [/INST]\"\"\"\n",
    "        return prompt\n",
    "\n",
    "    def run(self, generate, **kwargs):\n",
    "        evals = []\n",
    "        for data in tqdm(self.dataset):\n",
    "            evaluation = {}\n",
    "\n",
    "            prompt = self.generate_prompt(data[\"passage\"], data[\"schema\"])\n",
    "            start_time = time.time()\n",
    "            result = generate(prompt, **kwargs)[0][\"generated_text\"].strip()\n",
    "            time_taken = round(time.time() - start_time, 3)\n",
    "\n",
    "            evaluation[\"generation\"] = result\n",
    "            evaluation[\"time_taken\"] = time_taken\n",
    "\n",
    "            # check if result is valid JSON\n",
    "            try:\n",
    "                json_result = json.loads(result)\n",
    "                evaluation[\"is_valid\"] = True\n",
    "\n",
    "                # check if result matches schema\n",
    "                # JSON might have erroneous keys\n",
    "                schema = data[\"extracted_data\"]\n",
    "                evaluation[\"matches_schema\"] = json_result == schema\n",
    "                evaluation[\"error_type\"] = None\n",
    "            except ValueError:\n",
    "                evaluation[\"is_valid\"] = False\n",
    "                evaluation[\"matches_schema\"] = False\n",
    "\n",
    "                if result[0] != \"{\":\n",
    "                    evaluation[\"error_type\"] = \"prefix\"\n",
    "                elif result[-1] != \"}\":\n",
    "                    evaluation[\"error_type\"] = \"suffix\"\n",
    "                else:\n",
    "                    evaluation[\"error_type\"] = \"invalid\"\n",
    "\n",
    "            evals.append(evaluation)\n",
    "\n",
    "        return evals\n",
    "\n",
    "    def print(self, results, show_generation=False):\n",
    "        table = PrettyTable()\n",
    "\n",
    "        # Define the table columns\n",
    "        table.field_names = [\n",
    "            \"Valid (✅/❌)\",\n",
    "            \"Matches Schema (✅/❌)\",\n",
    "            \"Time (s)\",\n",
    "            \"Error\",\n",
    "        ]\n",
    "        if show_generation:\n",
    "            table.add_column(\"Generation\")\n",
    "\n",
    "        valid_counter, schema_counter, total_time = 0, 0, 0\n",
    "\n",
    "        for result in results:\n",
    "            is_valid = \"✅\" if result[\"is_valid\"] else \"❌\"\n",
    "            matches_schema = \"✅\" if result[\"matches_schema\"] else \"❌\"\n",
    "            error_type = result[\"error_type\"]\n",
    "\n",
    "            valid_counter += result[\"is_valid\"]\n",
    "            schema_counter += result[\"matches_schema\"]\n",
    "            total_time += result[\"time_taken\"]\n",
    "\n",
    "            row = [is_valid, matches_schema, result[\"time_taken\"], error_type]\n",
    "            if show_generation:\n",
    "                row.append(result[\"generation\"])\n",
    "\n",
    "            table.add_row(row)\n",
    "\n",
    "        valid_accuracy = valid_counter / len(results)\n",
    "        schema_accuracy = schema_counter / len(results)\n",
    "        average_time = round(total_time / len(results), 3)\n",
    "\n",
    "        table.add_row([\"-\", \"-\", \"-\", \"-\"])\n",
    "        table.add_row(\n",
    "            [\n",
    "                f\"Accuracy: {valid_accuracy}\",\n",
    "                f\"Accuracy: {schema_accuracy}\",\n",
    "                f\"Average: {average_time}\",\n",
    "                \"-\",\n",
    "            ]\n",
    "        )\n",
    "\n",
    "        print(table)\n"
   ]
  },
  {
   "cell_type": "code",
   "execution_count": 1,
   "id": "1d72ffd7-c775-4d86-b380-3322376e309d",
   "metadata": {
    "scrolled": true
   },
   "outputs": [
    {
     "name": "stdout",
     "output_type": "stream",
     "text": [
      "Collecting transformers\n",
      "  Downloading transformers-4.35.1-py3-none-any.whl.metadata (123 kB)\n",
      "\u001b[2K     \u001b[90m━━━━━━━━━━━━━━━━━━━━━━━━━━━━━━━━━━━━━━━\u001b[0m \u001b[32m123.1/123.1 kB\u001b[0m \u001b[31m3.6 MB/s\u001b[0m eta \u001b[36m0:00:00\u001b[0m\n",
      "\u001b[?25hCollecting accelerate\n",
      "  Downloading accelerate-0.24.1-py3-none-any.whl.metadata (18 kB)\n",
      "Requirement already satisfied: filelock in /usr/local/lib/python3.10/dist-packages (from transformers) (3.9.0)\n",
      "Collecting huggingface-hub<1.0,>=0.16.4 (from transformers)\n",
      "  Downloading huggingface_hub-0.19.1-py3-none-any.whl.metadata (13 kB)\n",
      "Requirement already satisfied: numpy>=1.17 in /usr/local/lib/python3.10/dist-packages (from transformers) (1.24.1)\n",
      "Requirement already satisfied: packaging>=20.0 in /usr/local/lib/python3.10/dist-packages (from transformers) (23.2)\n",
      "Requirement already satisfied: pyyaml>=5.1 in /usr/local/lib/python3.10/dist-packages (from transformers) (6.0.1)\n",
      "Collecting regex!=2019.12.17 (from transformers)\n",
      "  Downloading regex-2023.10.3-cp310-cp310-manylinux_2_17_x86_64.manylinux2014_x86_64.whl.metadata (40 kB)\n",
      "\u001b[2K     \u001b[90m━━━━━━━━━━━━━━━━━━━━━━━━━━━━━━━━━━━━━━━━\u001b[0m \u001b[32m40.9/40.9 kB\u001b[0m \u001b[31m6.5 MB/s\u001b[0m eta \u001b[36m0:00:00\u001b[0m\n",
      "\u001b[?25hRequirement already satisfied: requests in /usr/local/lib/python3.10/dist-packages (from transformers) (2.31.0)\n",
      "Collecting tokenizers<0.15,>=0.14 (from transformers)\n",
      "  Downloading tokenizers-0.14.1-cp310-cp310-manylinux_2_17_x86_64.manylinux2014_x86_64.whl.metadata (6.7 kB)\n",
      "Collecting safetensors>=0.3.1 (from transformers)\n",
      "  Downloading safetensors-0.4.0-cp310-cp310-manylinux_2_17_x86_64.manylinux2014_x86_64.whl.metadata (3.8 kB)\n",
      "Collecting tqdm>=4.27 (from transformers)\n",
      "  Downloading tqdm-4.66.1-py3-none-any.whl.metadata (57 kB)\n",
      "\u001b[2K     \u001b[90m━━━━━━━━━━━━━━━━━━━━━━━━━━━━━━━━━━━━━━━━\u001b[0m \u001b[32m57.6/57.6 kB\u001b[0m \u001b[31m12.8 MB/s\u001b[0m eta \u001b[36m0:00:00\u001b[0m\n",
      "\u001b[?25hRequirement already satisfied: psutil in /usr/local/lib/python3.10/dist-packages (from accelerate) (5.9.6)\n",
      "Requirement already satisfied: torch>=1.10.0 in /usr/local/lib/python3.10/dist-packages (from accelerate) (2.1.0+cu118)\n",
      "Collecting fsspec>=2023.5.0 (from huggingface-hub<1.0,>=0.16.4->transformers)\n",
      "  Downloading fsspec-2023.10.0-py3-none-any.whl.metadata (6.8 kB)\n",
      "Requirement already satisfied: typing-extensions>=3.7.4.3 in /usr/local/lib/python3.10/dist-packages (from huggingface-hub<1.0,>=0.16.4->transformers) (4.4.0)\n",
      "Collecting huggingface-hub<1.0,>=0.16.4 (from transformers)\n",
      "  Downloading huggingface_hub-0.17.3-py3-none-any.whl.metadata (13 kB)\n",
      "Requirement already satisfied: fsspec in /usr/local/lib/python3.10/dist-packages (from huggingface-hub<1.0,>=0.16.4->transformers) (2023.4.0)\n",
      "Requirement already satisfied: sympy in /usr/local/lib/python3.10/dist-packages (from torch>=1.10.0->accelerate) (1.12)\n",
      "Requirement already satisfied: networkx in /usr/local/lib/python3.10/dist-packages (from torch>=1.10.0->accelerate) (3.0)\n",
      "Requirement already satisfied: jinja2 in /usr/local/lib/python3.10/dist-packages (from torch>=1.10.0->accelerate) (3.1.2)\n",
      "Requirement already satisfied: triton==2.1.0 in /usr/local/lib/python3.10/dist-packages (from torch>=1.10.0->accelerate) (2.1.0)\n",
      "Requirement already satisfied: charset-normalizer<4,>=2 in /usr/local/lib/python3.10/dist-packages (from requests->transformers) (2.1.1)\n",
      "Requirement already satisfied: idna<4,>=2.5 in /usr/local/lib/python3.10/dist-packages (from requests->transformers) (3.4)\n",
      "Requirement already satisfied: urllib3<3,>=1.21.1 in /usr/local/lib/python3.10/dist-packages (from requests->transformers) (1.26.13)\n",
      "Requirement already satisfied: certifi>=2017.4.17 in /usr/local/lib/python3.10/dist-packages (from requests->transformers) (2022.12.7)\n",
      "Requirement already satisfied: MarkupSafe>=2.0 in /usr/local/lib/python3.10/dist-packages (from jinja2->torch>=1.10.0->accelerate) (2.1.2)\n",
      "Requirement already satisfied: mpmath>=0.19 in /usr/local/lib/python3.10/dist-packages (from sympy->torch>=1.10.0->accelerate) (1.3.0)\n",
      "Downloading transformers-4.35.1-py3-none-any.whl (7.9 MB)\n",
      "\u001b[2K   \u001b[90m━━━━━━━━━━━━━━━━━━━━━━━━━━━━━━━━━━━━━━━━\u001b[0m \u001b[32m7.9/7.9 MB\u001b[0m \u001b[31m35.6 MB/s\u001b[0m eta \u001b[36m0:00:00\u001b[0ma \u001b[36m0:00:01\u001b[0m\n",
      "\u001b[?25hDownloading accelerate-0.24.1-py3-none-any.whl (261 kB)\n",
      "\u001b[2K   \u001b[90m━━━━━━━━━━━━━━━━━━━━━━━━━━━━━━━━━━━━━━━━\u001b[0m \u001b[32m261.4/261.4 kB\u001b[0m \u001b[31m44.8 MB/s\u001b[0m eta \u001b[36m0:00:00\u001b[0m\n",
      "\u001b[?25hDownloading regex-2023.10.3-cp310-cp310-manylinux_2_17_x86_64.manylinux2014_x86_64.whl (773 kB)\n",
      "\u001b[2K   \u001b[90m━━━━━━━━━━━━━━━━━━━━━━━━━━━━━━━━━━━━━━━━\u001b[0m \u001b[32m773.9/773.9 kB\u001b[0m \u001b[31m44.5 MB/s\u001b[0m eta \u001b[36m0:00:00\u001b[0m\n",
      "\u001b[?25hDownloading safetensors-0.4.0-cp310-cp310-manylinux_2_17_x86_64.manylinux2014_x86_64.whl (1.3 MB)\n",
      "\u001b[2K   \u001b[90m━━━━━━━━━━━━━━━━━━━━━━━━━━━━━━━━━━━━━━━━\u001b[0m \u001b[32m1.3/1.3 MB\u001b[0m \u001b[31m47.6 MB/s\u001b[0m eta \u001b[36m0:00:00\u001b[0m\n",
      "\u001b[?25hDownloading tokenizers-0.14.1-cp310-cp310-manylinux_2_17_x86_64.manylinux2014_x86_64.whl (3.8 MB)\n",
      "\u001b[2K   \u001b[90m━━━━━━━━━━━━━━━━━━━━━━━━━━━━━━━━━━━━━━━━\u001b[0m \u001b[32m3.8/3.8 MB\u001b[0m \u001b[31m44.1 MB/s\u001b[0m eta \u001b[36m0:00:00\u001b[0ma \u001b[36m0:00:01\u001b[0m\n",
      "\u001b[?25hDownloading huggingface_hub-0.17.3-py3-none-any.whl (295 kB)\n",
      "\u001b[2K   \u001b[90m━━━━━━━━━━━━━━━━━━━━━━━━━━━━━━━━━━━━━━━━\u001b[0m \u001b[32m295.0/295.0 kB\u001b[0m \u001b[31m43.8 MB/s\u001b[0m eta \u001b[36m0:00:00\u001b[0m\n",
      "\u001b[?25hDownloading tqdm-4.66.1-py3-none-any.whl (78 kB)\n",
      "\u001b[2K   \u001b[90m━━━━━━━━━━━━━━━━━━━━━━━━━━━━━━━━━━━━━━━━\u001b[0m \u001b[32m78.3/78.3 kB\u001b[0m \u001b[31m18.3 MB/s\u001b[0m eta \u001b[36m0:00:00\u001b[0m\n",
      "\u001b[?25hInstalling collected packages: tqdm, safetensors, regex, huggingface-hub, tokenizers, accelerate, transformers\n",
      "Successfully installed accelerate-0.24.1 huggingface-hub-0.17.3 regex-2023.10.3 safetensors-0.4.0 tokenizers-0.14.1 tqdm-4.66.1 transformers-4.35.1\n",
      "\u001b[33mWARNING: Running pip as the 'root' user can result in broken permissions and conflicting behaviour with the system package manager. It is recommended to use a virtual environment instead: https://pip.pypa.io/warnings/venv\u001b[0m\u001b[33m\n",
      "\u001b[0m"
     ]
    }
   ],
   "source": [
    "!pip install transformers accelerate"
   ]
  },
  {
   "cell_type": "code",
   "execution_count": 165,
   "id": "54bc48c7-df01-44d8-a236-644dbc6de9fa",
   "metadata": {},
   "outputs": [],
   "source": [
    "eval_harness = JSONBenchmark(\"jsonbench.jsonl\")"
   ]
  },
  {
   "cell_type": "code",
   "execution_count": 6,
   "id": "785fa69b-82aa-45a1-8105-e5c688d2a8fb",
   "metadata": {},
   "outputs": [
    {
     "data": {
      "application/vnd.jupyter.widget-view+json": {
       "model_id": "c38118dd7dc547069f62d5a648dfde98",
       "version_major": 2,
       "version_minor": 0
      },
      "text/plain": [
       "Downloading (…)okenizer_config.json:   0%|          | 0.00/746 [00:00<?, ?B/s]"
      ]
     },
     "metadata": {},
     "output_type": "display_data"
    },
    {
     "data": {
      "application/vnd.jupyter.widget-view+json": {
       "model_id": "a06c50bf4e134a2cb92f80d234f72cf5",
       "version_major": 2,
       "version_minor": 0
      },
      "text/plain": [
       "Downloading tokenizer.model:   0%|          | 0.00/500k [00:00<?, ?B/s]"
      ]
     },
     "metadata": {},
     "output_type": "display_data"
    },
    {
     "data": {
      "application/vnd.jupyter.widget-view+json": {
       "model_id": "5a54922512c64ec7a5de2beae872f99c",
       "version_major": 2,
       "version_minor": 0
      },
      "text/plain": [
       "Downloading (…)/main/tokenizer.json:   0%|          | 0.00/1.84M [00:00<?, ?B/s]"
      ]
     },
     "metadata": {},
     "output_type": "display_data"
    },
    {
     "data": {
      "application/vnd.jupyter.widget-view+json": {
       "model_id": "84b45559659b4bafb53d00583aa941ff",
       "version_major": 2,
       "version_minor": 0
      },
      "text/plain": [
       "Downloading (…)in/added_tokens.json:   0%|          | 0.00/21.0 [00:00<?, ?B/s]"
      ]
     },
     "metadata": {},
     "output_type": "display_data"
    },
    {
     "data": {
      "application/vnd.jupyter.widget-view+json": {
       "model_id": "c27fe80fd65e408db6c71bd14c462b4b",
       "version_major": 2,
       "version_minor": 0
      },
      "text/plain": [
       "Downloading (…)cial_tokens_map.json:   0%|          | 0.00/435 [00:00<?, ?B/s]"
      ]
     },
     "metadata": {},
     "output_type": "display_data"
    },
    {
     "data": {
      "application/vnd.jupyter.widget-view+json": {
       "model_id": "5840fd3ad2274c6787ab43c222c1e866",
       "version_major": 2,
       "version_minor": 0
      },
      "text/plain": [
       "Downloading (…)lve/main/config.json:   0%|          | 0.00/583 [00:00<?, ?B/s]"
      ]
     },
     "metadata": {},
     "output_type": "display_data"
    },
    {
     "data": {
      "application/vnd.jupyter.widget-view+json": {
       "model_id": "2ce82ce95be046be979093876d7ce0af",
       "version_major": 2,
       "version_minor": 0
      },
      "text/plain": [
       "Downloading (…)fetensors.index.json:   0%|          | 0.00/26.8k [00:00<?, ?B/s]"
      ]
     },
     "metadata": {},
     "output_type": "display_data"
    },
    {
     "data": {
      "application/vnd.jupyter.widget-view+json": {
       "model_id": "85b640ee52a14b3baf8cd797f8f6e0c2",
       "version_major": 2,
       "version_minor": 0
      },
      "text/plain": [
       "Downloading shards:   0%|          | 0/2 [00:00<?, ?it/s]"
      ]
     },
     "metadata": {},
     "output_type": "display_data"
    },
    {
     "data": {
      "application/vnd.jupyter.widget-view+json": {
       "model_id": "ffbf2fccb918445bb6577e144b71cd64",
       "version_major": 2,
       "version_minor": 0
      },
      "text/plain": [
       "Downloading (…)of-00002.safetensors:   0%|          | 0.00/9.98G [00:00<?, ?B/s]"
      ]
     },
     "metadata": {},
     "output_type": "display_data"
    },
    {
     "data": {
      "application/vnd.jupyter.widget-view+json": {
       "model_id": "581cfe61f5484ab58c816951955abad0",
       "version_major": 2,
       "version_minor": 0
      },
      "text/plain": [
       "Downloading (…)of-00002.safetensors:   0%|          | 0.00/3.50G [00:00<?, ?B/s]"
      ]
     },
     "metadata": {},
     "output_type": "display_data"
    },
    {
     "data": {
      "application/vnd.jupyter.widget-view+json": {
       "model_id": "6a612f8ed5504f7cb3a547726ae2fc97",
       "version_major": 2,
       "version_minor": 0
      },
      "text/plain": [
       "Loading checkpoint shards:   0%|          | 0/2 [00:00<?, ?it/s]"
      ]
     },
     "metadata": {},
     "output_type": "display_data"
    },
    {
     "data": {
      "application/vnd.jupyter.widget-view+json": {
       "model_id": "30102809a1884ee3b95bc24a99a185a3",
       "version_major": 2,
       "version_minor": 0
      },
      "text/plain": [
       "Downloading (…)neration_config.json:   0%|          | 0.00/179 [00:00<?, ?B/s]"
      ]
     },
     "metadata": {},
     "output_type": "display_data"
    },
    {
     "name": "stderr",
     "output_type": "stream",
     "text": [
      "/usr/local/lib/python3.10/dist-packages/transformers/generation/configuration_utils.py:381: UserWarning: `do_sample` is set to `False`. However, `temperature` is set to `0.9` -- this flag is only used in sample-based generation modes. You should set `do_sample=True` or unset `temperature`. This was detected when initializing the generation config instance, which means the corresponding file may hold incorrect parameterization and should be fixed.\n",
      "  warnings.warn(\n",
      "/usr/local/lib/python3.10/dist-packages/transformers/generation/configuration_utils.py:386: UserWarning: `do_sample` is set to `False`. However, `top_p` is set to `0.6` -- this flag is only used in sample-based generation modes. You should set `do_sample=True` or unset `top_p`. This was detected when initializing the generation config instance, which means the corresponding file may hold incorrect parameterization and should be fixed.\n",
      "  warnings.warn(\n"
     ]
    }
   ],
   "source": [
    "# load model\n",
    "from transformers import AutoTokenizer\n",
    "import transformers\n",
    "import torch\n",
    "\n",
    "model = \"NousResearch/Llama-2-7b-chat-hf\"\n",
    "\n",
    "tokenizer = AutoTokenizer.from_pretrained(model)\n",
    "pipeline = transformers.pipeline(\n",
    "    \"text-generation\",\n",
    "    model=model,\n",
    "    torch_dtype=torch.float16,\n",
    "    device_map=\"auto\",\n",
    ")"
   ]
  },
  {
   "cell_type": "code",
   "execution_count": 136,
   "id": "b1643dba-6ef9-4876-a1a8-0abe4628f29d",
   "metadata": {},
   "outputs": [],
   "source": [
    "sampling_params = {\n",
    "    \"do_sample\": True,\n",
    "    \"top_k\": 10,\n",
    "    \"num_return_sequences\": 1,\n",
    "    \"eos_token_id\": tokenizer.eos_token_id,\n",
    "    \"max_length\": 512,\n",
    "    \"return_full_text\": False\n",
    "}"
   ]
  },
  {
   "cell_type": "code",
   "execution_count": 166,
   "id": "4bb8d444-be8d-4379-afe2-a67ae172f155",
   "metadata": {},
   "outputs": [
    {
     "name": "stderr",
     "output_type": "stream",
     "text": [
      "100%|██████████| 3/3 [00:12<00:00,  4.27s/it]\n"
     ]
    }
   ],
   "source": [
    "outputs = eval_harness.run(pipeline, **sampling_params)"
   ]
  },
  {
   "cell_type": "code",
   "execution_count": 167,
   "id": "cb474e70-4819-42c8-8ab3-a59fd96f383a",
   "metadata": {},
   "outputs": [
    {
     "name": "stdout",
     "output_type": "stream",
     "text": [
      "+---------------+------------------------+----------------+---------+\n",
      "| Valid (✅/❌) | Matches Schema (✅/❌) |    Time (s)    |  Error  |\n",
      "+---------------+------------------------+----------------+---------+\n",
      "|       ❌      |           ❌           |     3.664      |  prefix |\n",
      "|       ❌      |           ❌           |     5.871      |  prefix |\n",
      "|       ❌      |           ❌           |     3.257      | invalid |\n",
      "|       -       |           -            |       -        |    -    |\n",
      "| Accuracy: 0.0 |     Accuracy: 0.0      | Average: 4.264 |    -    |\n",
      "+---------------+------------------------+----------------+---------+\n"
     ]
    }
   ],
   "source": [
    "eval_harness.print(outputs)"
   ]
  },
  {
   "cell_type": "code",
   "execution_count": 168,
   "id": "48053f14-9d2a-442e-9861-bbb13a971469",
   "metadata": {},
   "outputs": [
    {
     "name": "stdout",
     "output_type": "stream",
     "text": [
      "[{'generation': 'Here is the extracted schema in JSON format:\\n\\n{\\n\"company\": {\"name\": \"Apple Inc.\", \"location\": \"California\"},\\n\"product\": {\"name\": \"iPhone 13\", \"release_date\": \"2021-09-15\"},\\n\"event\": {\"type\": \"online\", \"attendance\": 1000000},\\n\"CEO\": {\"name\": \"Tim Cook\"},\\n\"price\": {\"base_model\": 699}\\n}\\n}', 'time_taken': 3.664, 'is_valid': False, 'matches_schema': False, 'error_type': 'prefix'}, {'generation': 'Here is the extracted schema in JSON format:\\n\\n{\\n\"acquirer\": {\\n\"name\": \"Zoom Video Communications\",\\n\"location\": \"San Jose\",\\n\"CEO\": \"Eric Yuan\"\\n},\\n\"target\": {\\n\"name\": \"Five9\",\\n\"CEO\": \"Rowan Trollope\",\\n\"business_domain\": \"cloud contact center software\"\\n},\\n\"transaction\": {\\n\"type\": \"acquisition\",\\n\"method\": \"shares\",\\n\"announcement_date\": \"July 18, 2021\",\\n\"expected_close_date\": \"first half of 2022\"\\n,\"potential_impact\": \"speed up Zoom\\'s entrance into the contact center as a service (CCaaS) market\"\\n}\\n}', 'time_taken': 5.871, 'is_valid': False, 'matches_schema': False, 'error_type': 'prefix'}, {'generation': \"{'company': {'name': 'Microsoft Corporation', 'product': {'name': 'Windows 11', 'launch_date': '2021-10-05', 'features': ['redesigned task bar', 'improved voice typing','simplified window management', 'access to Android apps'], 'editions': [{'name': 'Business', 'price': '199'}, {'name': 'Home', 'price': '139'}]}}}\", 'time_taken': 3.257, 'is_valid': False, 'matches_schema': False, 'error_type': 'invalid'}]\n"
     ]
    }
   ],
   "source": [
    "print(outputs)"
   ]
  },
  {
   "cell_type": "code",
   "execution_count": 171,
   "id": "20f4da67-e256-418f-9217-6cd52e39f28a",
   "metadata": {},
   "outputs": [
    {
     "name": "stdout",
     "output_type": "stream",
     "text": [
      "{'company': {'name': 'Microsoft Corporation', 'product': {'name': 'Windows 11', 'launch_date': '2021-10-05', 'features': ['redesigned task bar', 'improved voice typing', 'simplified window management', 'access to Android apps'], 'editions': [{'name': 'business edition', 'price': 199}, {'name': 'home edition', 'price': 139}]}}}\n"
     ]
    }
   ],
   "source": [
    "print(eval_harness.dataset[2][\"extracted_data\"])"
   ]
  },
  {
   "cell_type": "code",
   "execution_count": 170,
   "id": "8a092977-e8a8-43a1-ac77-639662080556",
   "metadata": {},
   "outputs": [
    {
     "name": "stdout",
     "output_type": "stream",
     "text": [
      "{'company': {'name': 'Microsoft Corporation', 'product': {'name': 'Windows 11', 'launch_date': '2021-10-05', 'features': ['redesigned task bar', 'improved voice typing','simplified window management', 'access to Android apps'], 'editions': [{'name': 'Business', 'price': '199'}, {'name': 'Home', 'price': '139'}]}}}\n"
     ]
    }
   ],
   "source": [
    "print(outputs[2][\"generation\"].strip())"
   ]
  },
  {
   "cell_type": "markdown",
   "id": "fb54eacd-c597-4901-82c9-4aa86e0a52b1",
   "metadata": {},
   "source": [
    "## Types of issues\n",
    "1. Incorrect output (we can't solve this)\n",
    "2. Undesired prefix\n",
    "3. Undesired suffix\n",
    "4. Invalid JSON\n",
    "\n",
    "2-4 are solved by constrained sampling."
   ]
  }
 ],
 "metadata": {
  "kernelspec": {
   "display_name": "Python 3 (ipykernel)",
   "language": "python",
   "name": "python3"
  },
  "language_info": {
   "codemirror_mode": {
    "name": "ipython",
    "version": 3
   },
   "file_extension": ".py",
   "mimetype": "text/x-python",
   "name": "python",
   "nbconvert_exporter": "python",
   "pygments_lexer": "ipython3",
   "version": "3.10.12"
  }
 },
 "nbformat": 4,
 "nbformat_minor": 5
}
