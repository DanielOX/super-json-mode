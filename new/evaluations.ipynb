{
 "cells": [
  {
   "cell_type": "code",
   "execution_count": 1,
   "id": "73345f09-383f-4c35-8c1d-5cb96a828873",
   "metadata": {},
   "outputs": [],
   "source": [
    "%load_ext autoreload\n",
    "%autoreload 2"
   ]
  },
  {
   "cell_type": "code",
   "execution_count": 10,
   "id": "1da6d83e-0c90-4623-8430-511b753a46c3",
   "metadata": {
    "scrolled": true
   },
   "outputs": [
    {
     "name": "stdout",
     "output_type": "stream",
     "text": [
      "Requirement already satisfied: tqdm in /usr/local/lib/python3.10/dist-packages (4.66.1)\n",
      "Requirement already satisfied: prettytable in /usr/local/lib/python3.10/dist-packages (3.9.0)\n",
      "Requirement already satisfied: transformers in /usr/local/lib/python3.10/dist-packages (4.35.2)\n",
      "Requirement already satisfied: accelerate in /usr/local/lib/python3.10/dist-packages (0.25.0)\n",
      "Collecting pydantic\n",
      "  Downloading pydantic-2.5.2-py3-none-any.whl.metadata (65 kB)\n",
      "\u001b[2K     \u001b[90m━━━━━━━━━━━━━━━━━━━━━━━━━━━━━━━━━━━━━━━━\u001b[0m \u001b[32m65.2/65.2 kB\u001b[0m \u001b[31m2.6 MB/s\u001b[0m eta \u001b[36m0:00:00\u001b[0m\n",
      "\u001b[?25hRequirement already satisfied: wcwidth in /usr/local/lib/python3.10/dist-packages (from prettytable) (0.2.9)\n",
      "Requirement already satisfied: filelock in /usr/local/lib/python3.10/dist-packages (from transformers) (3.9.0)\n",
      "Requirement already satisfied: huggingface-hub<1.0,>=0.16.4 in /usr/local/lib/python3.10/dist-packages (from transformers) (0.19.4)\n",
      "Requirement already satisfied: numpy>=1.17 in /usr/local/lib/python3.10/dist-packages (from transformers) (1.24.1)\n",
      "Requirement already satisfied: packaging>=20.0 in /usr/local/lib/python3.10/dist-packages (from transformers) (23.2)\n",
      "Requirement already satisfied: pyyaml>=5.1 in /usr/local/lib/python3.10/dist-packages (from transformers) (6.0.1)\n",
      "Requirement already satisfied: regex!=2019.12.17 in /usr/local/lib/python3.10/dist-packages (from transformers) (2023.10.3)\n",
      "Requirement already satisfied: requests in /usr/local/lib/python3.10/dist-packages (from transformers) (2.31.0)\n",
      "Requirement already satisfied: tokenizers<0.19,>=0.14 in /usr/local/lib/python3.10/dist-packages (from transformers) (0.15.0)\n",
      "Requirement already satisfied: safetensors>=0.3.1 in /usr/local/lib/python3.10/dist-packages (from transformers) (0.4.1)\n",
      "Requirement already satisfied: psutil in /usr/local/lib/python3.10/dist-packages (from accelerate) (5.9.6)\n",
      "Requirement already satisfied: torch>=1.10.0 in /usr/local/lib/python3.10/dist-packages (from accelerate) (2.1.0+cu118)\n",
      "Collecting annotated-types>=0.4.0 (from pydantic)\n",
      "  Downloading annotated_types-0.6.0-py3-none-any.whl.metadata (12 kB)\n",
      "Collecting pydantic-core==2.14.5 (from pydantic)\n",
      "  Downloading pydantic_core-2.14.5-cp310-cp310-manylinux_2_17_x86_64.manylinux2014_x86_64.whl.metadata (6.5 kB)\n",
      "Collecting typing-extensions>=4.6.1 (from pydantic)\n",
      "  Downloading typing_extensions-4.8.0-py3-none-any.whl.metadata (3.0 kB)\n",
      "Requirement already satisfied: fsspec>=2023.5.0 in /usr/local/lib/python3.10/dist-packages (from huggingface-hub<1.0,>=0.16.4->transformers) (2023.12.1)\n",
      "Requirement already satisfied: sympy in /usr/local/lib/python3.10/dist-packages (from torch>=1.10.0->accelerate) (1.12)\n",
      "Requirement already satisfied: networkx in /usr/local/lib/python3.10/dist-packages (from torch>=1.10.0->accelerate) (3.0)\n",
      "Requirement already satisfied: jinja2 in /usr/local/lib/python3.10/dist-packages (from torch>=1.10.0->accelerate) (3.1.2)\n",
      "Requirement already satisfied: triton==2.1.0 in /usr/local/lib/python3.10/dist-packages (from torch>=1.10.0->accelerate) (2.1.0)\n",
      "Requirement already satisfied: charset-normalizer<4,>=2 in /usr/local/lib/python3.10/dist-packages (from requests->transformers) (2.1.1)\n",
      "Requirement already satisfied: idna<4,>=2.5 in /usr/local/lib/python3.10/dist-packages (from requests->transformers) (3.4)\n",
      "Requirement already satisfied: urllib3<3,>=1.21.1 in /usr/local/lib/python3.10/dist-packages (from requests->transformers) (1.26.13)\n",
      "Requirement already satisfied: certifi>=2017.4.17 in /usr/local/lib/python3.10/dist-packages (from requests->transformers) (2022.12.7)\n",
      "Requirement already satisfied: MarkupSafe>=2.0 in /usr/local/lib/python3.10/dist-packages (from jinja2->torch>=1.10.0->accelerate) (2.1.2)\n",
      "Requirement already satisfied: mpmath>=0.19 in /usr/local/lib/python3.10/dist-packages (from sympy->torch>=1.10.0->accelerate) (1.3.0)\n",
      "Downloading pydantic-2.5.2-py3-none-any.whl (381 kB)\n",
      "\u001b[2K   \u001b[90m━━━━━━━━━━━━━━━━━━━━━━━━━━━━━━━━━━━━━━━━\u001b[0m \u001b[32m381.9/381.9 kB\u001b[0m \u001b[31m13.4 MB/s\u001b[0m eta \u001b[36m0:00:00\u001b[0m\n",
      "\u001b[?25hDownloading pydantic_core-2.14.5-cp310-cp310-manylinux_2_17_x86_64.manylinux2014_x86_64.whl (2.1 MB)\n",
      "\u001b[2K   \u001b[90m━━━━━━━━━━━━━━━━━━━━━━━━━━━━━━━━━━━━━━━━\u001b[0m \u001b[32m2.1/2.1 MB\u001b[0m \u001b[31m11.9 MB/s\u001b[0m eta \u001b[36m0:00:00\u001b[0ma \u001b[36m0:00:01\u001b[0m\n",
      "\u001b[?25hDownloading annotated_types-0.6.0-py3-none-any.whl (12 kB)\n",
      "Downloading typing_extensions-4.8.0-py3-none-any.whl (31 kB)\n",
      "Installing collected packages: typing-extensions, annotated-types, pydantic-core, pydantic\n",
      "  Attempting uninstall: typing-extensions\n",
      "    Found existing installation: typing_extensions 4.4.0\n",
      "    Uninstalling typing_extensions-4.4.0:\n",
      "      Successfully uninstalled typing_extensions-4.4.0\n",
      "Successfully installed annotated-types-0.6.0 pydantic-2.5.2 pydantic-core-2.14.5 typing-extensions-4.8.0\n",
      "\u001b[33mWARNING: Running pip as the 'root' user can result in broken permissions and conflicting behaviour with the system package manager. It is recommended to use a virtual environment instead: https://pip.pypa.io/warnings/venv\u001b[0m\u001b[33m\n",
      "\u001b[0m"
     ]
    }
   ],
   "source": [
    "!pip install tqdm prettytable transformers accelerate pydantic"
   ]
  },
  {
   "cell_type": "code",
   "execution_count": 52,
   "id": "48bf2500-3cef-447b-a321-18e66d60958e",
   "metadata": {},
   "outputs": [],
   "source": [
    "from madlibs.evals.run_benchmarks import BenchmarkRunner, Backend"
   ]
  },
  {
   "cell_type": "code",
   "execution_count": 53,
   "id": "b2da9efa-66c3-45a7-8e69-60793b460fb3",
   "metadata": {},
   "outputs": [
    {
     "data": {
      "application/vnd.jupyter.widget-view+json": {
       "model_id": "1222068af50340339d60d78af16df344",
       "version_major": 2,
       "version_minor": 0
      },
      "text/plain": [
       "Loading checkpoint shards:   0%|          | 0/2 [00:00<?, ?it/s]"
      ]
     },
     "metadata": {},
     "output_type": "display_data"
    }
   ],
   "source": [
    "bm = BenchmarkRunner(\"mistralai/Mistral-7B-Instruct-v0.1\", Backend.TRANSFORMERS)"
   ]
  },
  {
   "cell_type": "code",
   "execution_count": 54,
   "id": "d0d3b9e3-1ec6-424d-8251-70fa9fa97bab",
   "metadata": {},
   "outputs": [
    {
     "name": "stderr",
     "output_type": "stream",
     "text": [
      "Setting `pad_token_id` to `eos_token_id`:2 for open-end generation.\n"
     ]
    },
    {
     "name": "stdout",
     "output_type": "stream",
     "text": [
      "running batch\n"
     ]
    },
    {
     "name": "stderr",
     "output_type": "stream",
     "text": [
      "Setting `pad_token_id` to `eos_token_id`:2 for open-end generation.\n"
     ]
    },
    {
     "name": "stdout",
     "output_type": "stream",
     "text": [
      "{'company': {'name': 'Apple Inc., California, United States.', 'location': 'Apple Inc. is based in California, United States.'}, 'product': {'name': 'The correct value for product:name is iPhone 13.', 'release_date': 'The iPhone 13 was released on September 15, 2021.'}}\n",
      "running batch\n",
      "{'company': {'name': 'Apple Inc.', 'location': 'Apple Inc. is based in California, United States.'}, 'product': {'name': 'iPhone 13', 'release_date': 'release_date: September 15, 2021'}}\n"
     ]
    }
   ],
   "source": [
    "bm.run_json_benchmark(\n",
    "    \"benchmark/jsonbench.jsonl\",\n",
    "    batch_size=4\n",
    ")"
   ]
  },
  {
   "cell_type": "code",
   "execution_count": 55,
   "id": "4708c238-0ed5-4a4c-806e-dc4ec969cae9",
   "metadata": {},
   "outputs": [
    {
     "name": "stdout",
     "output_type": "stream",
     "text": [
      "+---------------+------------------------+------------+----------+-----------------+\n",
      "| Valid (✅/❌) | Matches Schema (✅/❌) | Batch Size | Time (s) |      Error      |\n",
      "+---------------+------------------------+------------+----------+-----------------+\n",
      "|      True     |         False          |     4      |  1.691   | schema_mismatch |\n",
      "|      True     |         False          |     4      |  1.383   | schema_mismatch |\n",
      "+---------------+------------------------+------------+----------+-----------------+\n"
     ]
    }
   ],
   "source": [
    "bm.evaluator.run_eval()"
   ]
  },
  {
   "cell_type": "code",
   "execution_count": 56,
   "id": "524f9411-6cef-4bce-9ada-395a0d454c64",
   "metadata": {},
   "outputs": [
    {
     "name": "stderr",
     "output_type": "stream",
     "text": [
      "Setting `pad_token_id` to `eos_token_id`:2 for open-end generation.\n"
     ]
    },
    {
     "name": "stdout",
     "output_type": "stream",
     "text": [
      "running batch\n"
     ]
    },
    {
     "name": "stderr",
     "output_type": "stream",
     "text": [
      "Setting `pad_token_id` to `eos_token_id`:2 for open-end generation.\n"
     ]
    },
    {
     "name": "stdout",
     "output_type": "stream",
     "text": [
      "{'company': {'name': 'Apple Inc.'}}\n",
      "running batch\n"
     ]
    },
    {
     "name": "stderr",
     "output_type": "stream",
     "text": [
      "Setting `pad_token_id` to `eos_token_id`:2 for open-end generation.\n"
     ]
    },
    {
     "name": "stdout",
     "output_type": "stream",
     "text": [
      "{'company': {'name': 'Apple Inc.', 'location': 'The company, Apple Inc., is based in California, United States.'}}\n",
      "running batch\n"
     ]
    },
    {
     "name": "stderr",
     "output_type": "stream",
     "text": [
      "Setting `pad_token_id` to `eos_token_id`:2 for open-end generation.\n"
     ]
    },
    {
     "name": "stdout",
     "output_type": "stream",
     "text": [
      "{'company': {'name': 'Apple Inc.', 'location': 'The company, Apple Inc., is based in California, United States.'}, 'product': {'name': 'Product: iPhone\\nName: 13'}}\n",
      "running batch\n"
     ]
    },
    {
     "name": "stderr",
     "output_type": "stream",
     "text": [
      "Setting `pad_token_id` to `eos_token_id`:2 for open-end generation.\n"
     ]
    },
    {
     "name": "stdout",
     "output_type": "stream",
     "text": [
      "{'company': {'name': 'Apple Inc.', 'location': 'The company, Apple Inc., is based in California, United States.'}, 'product': {'name': 'Product: iPhone\\nName: 13', 'release_date': 'The release date of the iPhone 13 is September 15, 2021.'}}\n",
      "running batch\n"
     ]
    },
    {
     "name": "stderr",
     "output_type": "stream",
     "text": [
      "Setting `pad_token_id` to `eos_token_id`:2 for open-end generation.\n"
     ]
    },
    {
     "name": "stdout",
     "output_type": "stream",
     "text": [
      "{'company': {'name': 'Apple Inc.'}}\n",
      "running batch\n"
     ]
    },
    {
     "name": "stderr",
     "output_type": "stream",
     "text": [
      "Setting `pad_token_id` to `eos_token_id`:2 for open-end generation.\n"
     ]
    },
    {
     "name": "stdout",
     "output_type": "stream",
     "text": [
      "{'company': {'name': 'Apple Inc.', 'location': 'Apple Inc. is located in California, United States.'}}\n",
      "running batch\n"
     ]
    },
    {
     "name": "stderr",
     "output_type": "stream",
     "text": [
      "Setting `pad_token_id` to `eos_token_id`:2 for open-end generation.\n"
     ]
    },
    {
     "name": "stdout",
     "output_type": "stream",
     "text": [
      "{'company': {'name': 'Apple Inc.', 'location': 'Apple Inc. is located in California, United States.'}, 'product': {'name': 'iPhone 13'}}\n",
      "running batch\n",
      "{'company': {'name': 'Apple Inc.', 'location': 'Apple Inc. is located in California, United States.'}, 'product': {'name': 'iPhone 13', 'release_date': 'product: iPhone 13, release_date: September 15, 2021'}}\n"
     ]
    }
   ],
   "source": [
    "bm.run_json_benchmark(\n",
    "    \"benchmark/jsonbench.jsonl\",\n",
    "    batch_size=1\n",
    ")"
   ]
  },
  {
   "cell_type": "code",
   "execution_count": 57,
   "id": "48fe1079-b916-4b68-8696-58bc336b45aa",
   "metadata": {},
   "outputs": [
    {
     "name": "stdout",
     "output_type": "stream",
     "text": [
      "+---------------+------------------------+------------+----------+-----------------+\n",
      "| Valid (✅/❌) | Matches Schema (✅/❌) | Batch Size | Time (s) |      Error      |\n",
      "+---------------+------------------------+------------+----------+-----------------+\n",
      "|      True     |         False          |     1      |  3.207   | schema_mismatch |\n",
      "|      True     |         False          |     1      |  2.784   | schema_mismatch |\n",
      "+---------------+------------------------+------------+----------+-----------------+\n"
     ]
    }
   ],
   "source": [
    "bm.evaluator.run_eval()"
   ]
  },
  {
   "cell_type": "markdown",
   "id": "8ed02287-a5c5-41b5-a61b-4c5f93ff5ab8",
   "metadata": {},
   "source": [
    "# Code to generate data samples"
   ]
  },
  {
   "cell_type": "code",
   "execution_count": 7,
   "id": "8ae2c6c8-14ff-46c2-94fb-390cc4e39732",
   "metadata": {},
   "outputs": [],
   "source": [
    "from pydantic import BaseModel\n",
    "\n",
    "prompt = \"The multinational corporation, Apple Inc., based in California, United States, released its new product, the iPhone 13, yesterday on September 15, 2021. The CEO, Tim Cook, made the announcement during an online event. The event had an attendance of 1 million people worldwide. The base model of iPhone 13 is priced at $699.\"\n",
    "\n",
    "class Company(BaseModel):\n",
    "    name: str\n",
    "    location: str\n",
    "\n",
    "class Product(BaseModel):\n",
    "    name: str\n",
    "    release_date: str\n",
    "    \n",
    "class Query(BaseModel):\n",
    "    company: Company\n",
    "    product: Product"
   ]
  },
  {
   "cell_type": "code",
   "execution_count": 8,
   "id": "929d8fe8-c76a-4bef-98f0-2fdd02f66b6e",
   "metadata": {},
   "outputs": [],
   "source": [
    "from madlibs.data.utils import convert_schema_from_pydantic"
   ]
  },
  {
   "cell_type": "code",
   "execution_count": 9,
   "id": "1ef5bc19-151b-40a7-b0dc-109ab05a9e6e",
   "metadata": {},
   "outputs": [
    {
     "data": {
      "text/plain": [
       "{'properties': {'company': {'properties': {'name': {'type': 'string'},\n",
       "    'location': {'type': 'string'}},\n",
       "   'type': 'object'},\n",
       "  'product': {'properties': {'name': {'type': 'string'},\n",
       "    'release_date': {'type': 'string'}},\n",
       "   'type': 'object'}},\n",
       " 'type': 'object'}"
      ]
     },
     "execution_count": 9,
     "metadata": {},
     "output_type": "execute_result"
    }
   ],
   "source": [
    "convert_schema_from_pydantic(Query)"
   ]
  }
 ],
 "metadata": {
  "kernelspec": {
   "display_name": "Python 3 (ipykernel)",
   "language": "python",
   "name": "python3"
  },
  "language_info": {
   "codemirror_mode": {
    "name": "ipython",
    "version": 3
   },
   "file_extension": ".py",
   "mimetype": "text/x-python",
   "name": "python",
   "nbconvert_exporter": "python",
   "pygments_lexer": "ipython3",
   "version": "3.10.12"
  }
 },
 "nbformat": 4,
 "nbformat_minor": 5
}
